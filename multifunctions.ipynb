{
 "cells": [
  {
   "cell_type": "code",
   "execution_count": 12,
   "id": "7d3d4e89",
   "metadata": {},
   "outputs": [
    {
     "name": "stdout",
     "output_type": "stream",
     "text": [
      "please enter the value from 0 - 2:1\n",
      "Your guess is corect\n",
      "[' ', 'O', ' ']\n"
     ]
    }
   ],
   "source": [
    "from random import shuffle\n",
    "#mylist = [\" \",\"O\",\" \"]\n",
    "def shuffle_list(mylist):\n",
    "    shuffle(mylist)\n",
    "    return mylist\n",
    "\n",
    "def player_guess():\n",
    "    guess = \" \"\n",
    "    while guess not in [\"0\",\"1\",\"2\"]:\n",
    "        guess = input(\"please enter the value from 0 - 2:\")\n",
    "    return int(guess)\n",
    "\n",
    "def check_guess(mylist,guess):\n",
    "    if mylist[guess] == \"O\":\n",
    "        print(\"Your guess is corect\")\n",
    "        print(mylist)\n",
    "    else:\n",
    "        print(\"incorrect Guess!\")\n",
    "        print(mylist)\n",
    "        \n",
    "mylist = [\" \",\"O\",\" \"]\n",
    "mixedup_list = shuffle_list(mylist)\n",
    "guess = player_guess()\n",
    "check_guess(mixedup_list,guess)"
   ]
  },
  {
   "cell_type": "code",
   "execution_count": null,
   "id": "8925a28a",
   "metadata": {},
   "outputs": [],
   "source": [
    "from random import shuffle\n",
    "def shuffle_list_1(mylist_2):\n",
    "    shuffle(mylist_2)\n",
    "    return mylist_2\n",
    "\n",
    "def player_guess_1():\n",
    "    guess_1 = \" \"\n",
    "    while guess_1 not in [\"0\",\"1\",\"2\"]:\n",
    "        guess_1 = input(\"Please enter the guess from 0 to 2: \")\n",
    "    return int(guess_1)\n",
    "\n",
    "def val_check(mylist_2,guess_1):\n",
    "    if mylist_2[guess_1] == \"O\":\n",
    "        print(\"Super Guess!!!!\")\n",
    "        print(mylist_2)\n",
    "    else:\n",
    "        print(\"Incorrect!\")\n",
    "        print(mylist_2)\n",
    "        \n",
    "mylist_2 = [\" \",\"O\",\" \"]\n",
    "a = shuffle_list_1(mylist_2)\n",
    "guess_1 = player_guess_1()\n",
    "val_check(a,guess_1)"
   ]
  },
  {
   "cell_type": "code",
   "execution_count": 2,
   "id": "fb776645",
   "metadata": {},
   "outputs": [
    {
     "name": "stdout",
     "output_type": "stream",
     "text": [
      "45\n"
     ]
    }
   ],
   "source": [
    "def myfunc(*args):\n",
    "    print(sum(args))\n",
    "myfunc(1,2,3,4,5,6,7,8,9,)"
   ]
  },
  {
   "cell_type": "code",
   "execution_count": 8,
   "id": "315a17ae",
   "metadata": {},
   "outputs": [
    {
     "name": "stdout",
     "output_type": "stream",
     "text": [
      "{'fruit': 'Apple', 'veggie': 'coco'}\n",
      "Fruit is available in Apple\n"
     ]
    }
   ],
   "source": [
    "def myfunc1(**kwargs):\n",
    "    print(kwargs)\n",
    "    if 'fruit' in kwargs:\n",
    "        print(\"Fruit is available in {}\".format(kwargs['fruit']))\n",
    "    else:\n",
    "        print(\"No fruit is available\")\n",
    "myfunc1(fruit='Apple',veggie='coco')"
   ]
  },
  {
   "cell_type": "code",
   "execution_count": null,
   "id": "388c161e",
   "metadata": {},
   "outputs": [],
   "source": []
  },
  {
   "cell_type": "code",
   "execution_count": null,
   "id": "e7dbdf00",
   "metadata": {},
   "outputs": [],
   "source": []
  }
 ],
 "metadata": {
  "kernelspec": {
   "display_name": "Python 3",
   "language": "python",
   "name": "python3"
  },
  "language_info": {
   "codemirror_mode": {
    "name": "ipython",
    "version": 3
   },
   "file_extension": ".py",
   "mimetype": "text/x-python",
   "name": "python",
   "nbconvert_exporter": "python",
   "pygments_lexer": "ipython3",
   "version": "3.8.8"
  }
 },
 "nbformat": 4,
 "nbformat_minor": 5
}
