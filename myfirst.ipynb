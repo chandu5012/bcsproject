{
 "cells": [
  {
   "cell_type": "code",
   "execution_count": 14,
   "id": "812478ea",
   "metadata": {},
   "outputs": [
    {
     "name": "stdout",
     "output_type": "stream",
     "text": [
      "Hello World\n"
     ]
    }
   ],
   "source": [
    "print(\"Hello World\")"
   ]
  },
  {
   "cell_type": "code",
   "execution_count": 15,
   "id": "bff01758",
   "metadata": {},
   "outputs": [
    {
     "name": "stdout",
     "output_type": "stream",
     "text": [
      "['Bo', 'Chandra', 'Sekhar', 'abcdefhhhhh']\n"
     ]
    }
   ],
   "source": [
    "my_name = \"Bo Chandra Sekhar abcdefhhhhh\"\n",
    "l = list(my_name.split(\" \"))\n",
    "print(l)"
   ]
  },
  {
   "cell_type": "code",
   "execution_count": 16,
   "id": "10bcc3cc",
   "metadata": {},
   "outputs": [
    {
     "name": "stdout",
     "output_type": "stream",
     "text": [
      "['Bo', 'Sekhar', 'Chandra', 'abcdefhhhhh']\n",
      "abcdefhhhhh\n"
     ]
    }
   ],
   "source": [
    "s = sorted(l, key = len)\n",
    "print(s)\n",
    "print(s[-1])"
   ]
  },
  {
   "cell_type": "markdown",
   "id": "9951ea66",
   "metadata": {},
   "source": [
    "This is test note book"
   ]
  },
  {
   "cell_type": "code",
   "execution_count": 19,
   "id": "15000df7",
   "metadata": {},
   "outputs": [
    {
     "name": "stdout",
     "output_type": "stream",
     "text": [
      "value is 20.2\n"
     ]
    }
   ],
   "source": [
    "b = 20.20\n",
    "print(\"value is {0}\".format(b))"
   ]
  },
  {
   "cell_type": "code",
   "execution_count": 22,
   "id": "d663057a",
   "metadata": {},
   "outputs": [
    {
     "name": "stdout",
     "output_type": "stream",
     "text": [
      "['Hello', 'World', 'abc', 'a']\n",
      "['a', 'abc', 'Hello', 'World']\n",
      "a\n",
      "World\n"
     ]
    }
   ],
   "source": [
    "x = \"Hello World abc a\"\n",
    "p = x.split(\" \")\n",
    "print(p)\n",
    "s1 = sorted(p,key=len)\n",
    "print(s1)\n",
    "print(s1[0])\n",
    "print(s1[-1])"
   ]
  },
  {
   "cell_type": "code",
   "execution_count": 25,
   "id": "e2e9de80",
   "metadata": {},
   "outputs": [
    {
     "name": "stdout",
     "output_type": "stream",
     "text": [
      "Bolisetty is a famile name and First name is Chandrasekhar\n"
     ]
    }
   ],
   "source": [
    "print(\"{} is a famile name and First name is {}\".format(\"Bolisetty\",\n",
    "                            \"Chandrasekhar\"))"
   ]
  },
  {
   "cell_type": "code",
   "execution_count": 27,
   "id": "6a12ee77",
   "metadata": {},
   "outputs": [
    {
     "name": "stdout",
     "output_type": "stream",
     "text": [
      "0.1287001287001287\n"
     ]
    }
   ],
   "source": [
    "result = 100/777\n",
    "print(result)"
   ]
  },
  {
   "cell_type": "code",
   "execution_count": 33,
   "id": "9a15f115",
   "metadata": {},
   "outputs": [
    {
     "name": "stdout",
     "output_type": "stream",
     "text": [
      "Float value is 0.1287001287001287\n",
      "Float value is 0.13\n"
     ]
    }
   ],
   "source": [
    "print(\"Float value is {r}\".format(r=result))\n",
    "print(\"Float value is {r:1.2f}\".format(r=result))"
   ]
  },
  {
   "cell_type": "code",
   "execution_count": 34,
   "id": "2e7c7135",
   "metadata": {},
   "outputs": [
    {
     "name": "stdout",
     "output_type": "stream",
     "text": [
      "Chandra age is 33\n"
     ]
    }
   ],
   "source": [
    "name = \"Chandra\"\n",
    "age = 33\n",
    "print(f\"{name} age is {age}\")"
   ]
  },
  {
   "cell_type": "code",
   "execution_count": 37,
   "id": "abb0a0bf",
   "metadata": {},
   "outputs": [
    {
     "name": "stdout",
     "output_type": "stream",
     "text": [
      "['One', 'Two', 'Three', 'Four', 'Five']\n"
     ]
    }
   ],
   "source": [
    "mylist_1 = [\"One\",\"Two\",\"Three\"]\n",
    "mylist_2 = [\"Four\",\"Five\"]\n",
    "new_list = mylist_1 + mylist_2\n",
    "print(new_list)"
   ]
  },
  {
   "cell_type": "code",
   "execution_count": 41,
   "id": "c438a0c2",
   "metadata": {},
   "outputs": [
    {
     "name": "stdout",
     "output_type": "stream",
     "text": [
      "['One', 'Two', 'Three', 'Four', 'Five', 'Six', 'Six', 'Six']\n"
     ]
    }
   ],
   "source": [
    "new_list.append(\"Six\")\n",
    "print(new_list)"
   ]
  },
  {
   "cell_type": "code",
   "execution_count": 42,
   "id": "3b92ae74",
   "metadata": {},
   "outputs": [
    {
     "data": {
      "text/plain": [
       "'Six'"
      ]
     },
     "execution_count": 42,
     "metadata": {},
     "output_type": "execute_result"
    }
   ],
   "source": [
    "new_list.pop()"
   ]
  },
  {
   "cell_type": "code",
   "execution_count": 43,
   "id": "9f8e899e",
   "metadata": {},
   "outputs": [
    {
     "data": {
      "text/plain": [
       "'Two'"
      ]
     },
     "execution_count": 43,
     "metadata": {},
     "output_type": "execute_result"
    }
   ],
   "source": [
    "new_list.pop(1)"
   ]
  },
  {
   "cell_type": "markdown",
   "id": "89a51947",
   "metadata": {},
   "source": [
    "DICTIONERIES"
   ]
  },
  {
   "cell_type": "code",
   "execution_count": 44,
   "id": "b9715660",
   "metadata": {},
   "outputs": [
    {
     "data": {
      "text/plain": [
       "10.45"
      ]
     },
     "execution_count": 44,
     "metadata": {},
     "output_type": "execute_result"
    }
   ],
   "source": [
    "fruits_lookup = {\"apple\":10.45,\"banana\":3.55,\"mango\":3.76}\n",
    "fruits_lookup[\"apple\"]"
   ]
  },
  {
   "cell_type": "code",
   "execution_count": 46,
   "id": "1deddf25",
   "metadata": {},
   "outputs": [],
   "source": [
    "d = {\"name\":\"Chandra\",\"companys\":[\"Syntel\",\"Wells\"],\"key3\":{\"age\":33}}"
   ]
  },
  {
   "cell_type": "code",
   "execution_count": 50,
   "id": "4c2d5854",
   "metadata": {},
   "outputs": [
    {
     "name": "stdout",
     "output_type": "stream",
     "text": [
      "['Syntel', 'Wells']\n",
      "Wells\n",
      "33\n"
     ]
    }
   ],
   "source": [
    "print(d[\"companys\"])\n",
    "print(d[\"companys\"][1])\n",
    "print(d[\"key3\"][\"age\"])"
   ]
  },
  {
   "cell_type": "markdown",
   "id": "c2db1c91",
   "metadata": {},
   "source": [
    "TUPLE"
   ]
  },
  {
   "cell_type": "code",
   "execution_count": 51,
   "id": "1e013622",
   "metadata": {},
   "outputs": [
    {
     "name": "stdout",
     "output_type": "stream",
     "text": [
      "(1, 'a', 'c')\n"
     ]
    }
   ],
   "source": [
    "t = (1,\"a\",\"c\")\n",
    "print(t)"
   ]
  },
  {
   "cell_type": "code",
   "execution_count": 52,
   "id": "414a7674",
   "metadata": {},
   "outputs": [],
   "source": [
    "myset = set()"
   ]
  },
  {
   "cell_type": "code",
   "execution_count": 54,
   "id": "8978fa92",
   "metadata": {},
   "outputs": [
    {
     "name": "stdout",
     "output_type": "stream",
     "text": [
      "{1}\n"
     ]
    }
   ],
   "source": [
    "myset.add(1)\n",
    "print(myset)"
   ]
  },
  {
   "cell_type": "code",
   "execution_count": 55,
   "id": "939e1339",
   "metadata": {},
   "outputs": [
    {
     "name": "stdout",
     "output_type": "stream",
     "text": [
      "{1, 2}\n"
     ]
    }
   ],
   "source": [
    "myset.add(2)\n",
    "print(myset)"
   ]
  },
  {
   "cell_type": "code",
   "execution_count": 57,
   "id": "6a9cc002",
   "metadata": {},
   "outputs": [
    {
     "name": "stdout",
     "output_type": "stream",
     "text": [
      "{1, 2}\n"
     ]
    }
   ],
   "source": [
    "myset.add(2)\n",
    "print(myset)"
   ]
  },
  {
   "cell_type": "code",
   "execution_count": 58,
   "id": "8c5a5932",
   "metadata": {},
   "outputs": [
    {
     "name": "stdout",
     "output_type": "stream",
     "text": [
      "{2, 3, 5, 7, 8, 10, 17, 20}\n"
     ]
    }
   ],
   "source": [
    "m_list = [5,3,2,7,3,8,10,20,17,17]\n",
    "m_set = set(m_list)\n",
    "print(m_set)"
   ]
  },
  {
   "cell_type": "code",
   "execution_count": 59,
   "id": "81978f0d",
   "metadata": {},
   "outputs": [
    {
     "name": "stdout",
     "output_type": "stream",
     "text": [
      "Writing myfile01.txt\n"
     ]
    }
   ],
   "source": [
    "%%writefile myfile01.txt\n",
    "Hello this is a text file\n",
    "this is a secnond line\n",
    "this is a third line"
   ]
  },
  {
   "cell_type": "code",
   "execution_count": 60,
   "id": "b2400c85",
   "metadata": {},
   "outputs": [],
   "source": [
    "myfile = open(\"myfile01.txt\")"
   ]
  },
  {
   "cell_type": "code",
   "execution_count": 61,
   "id": "88ca3987",
   "metadata": {},
   "outputs": [
    {
     "data": {
      "text/plain": [
       "'C:\\\\Users\\\\Chandrasekhar\\\\Desktop\\\\PYTHON_CODE'"
      ]
     },
     "execution_count": 61,
     "metadata": {},
     "output_type": "execute_result"
    }
   ],
   "source": [
    "pwd"
   ]
  },
  {
   "cell_type": "code",
   "execution_count": 62,
   "id": "f1a39fc3",
   "metadata": {},
   "outputs": [
    {
     "data": {
      "text/plain": [
       "'Hello this is a text file\\nthis is a secnond line\\nthis is a third line\\n'"
      ]
     },
     "execution_count": 62,
     "metadata": {},
     "output_type": "execute_result"
    }
   ],
   "source": [
    "myfile.read()"
   ]
  },
  {
   "cell_type": "code",
   "execution_count": 63,
   "id": "b974d8b5",
   "metadata": {},
   "outputs": [
    {
     "data": {
      "text/plain": [
       "''"
      ]
     },
     "execution_count": 63,
     "metadata": {},
     "output_type": "execute_result"
    }
   ],
   "source": [
    "myfile.read()"
   ]
  },
  {
   "cell_type": "code",
   "execution_count": 64,
   "id": "97de2d2b",
   "metadata": {},
   "outputs": [
    {
     "data": {
      "text/plain": [
       "'Hello this is a text file\\nthis is a secnond line\\nthis is a third line\\n'"
      ]
     },
     "execution_count": 64,
     "metadata": {},
     "output_type": "execute_result"
    }
   ],
   "source": [
    "myfile.seek(0)\n",
    "myfile.read()"
   ]
  },
  {
   "cell_type": "code",
   "execution_count": 65,
   "id": "2b635810",
   "metadata": {},
   "outputs": [
    {
     "data": {
      "text/plain": [
       "['Hello this is a text file\\n',\n",
       " 'this is a secnond line\\n',\n",
       " 'this is a third line\\n']"
      ]
     },
     "execution_count": 65,
     "metadata": {},
     "output_type": "execute_result"
    }
   ],
   "source": [
    "myfile.seek(0)\n",
    "myfile.readlines()"
   ]
  },
  {
   "cell_type": "code",
   "execution_count": 66,
   "id": "34bb4e16",
   "metadata": {},
   "outputs": [
    {
     "name": "stdout",
     "output_type": "stream",
     "text": [
      "Hello this is a text file\n",
      "this is a secnond line\n",
      "this is a third line\n",
      "\n"
     ]
    }
   ],
   "source": [
    "with open(\"myfile01.txt\") as my_new_file:\n",
    "    contents = my_new_file.read()\n",
    "print(contents)"
   ]
  },
  {
   "cell_type": "code",
   "execution_count": 67,
   "id": "0d2cc5f0",
   "metadata": {},
   "outputs": [],
   "source": [
    "with open(\"myfile01.txt\",mode=\"a\") as f:\n",
    "    f.write(\"\\nThis is a 4th line\")"
   ]
  },
  {
   "cell_type": "code",
   "execution_count": 68,
   "id": "d989e9b5",
   "metadata": {},
   "outputs": [
    {
     "name": "stdout",
     "output_type": "stream",
     "text": [
      "Hello this is a text file\n",
      "this is a secnond line\n",
      "this is a third line\n",
      "\n",
      "This is a 4th line\n"
     ]
    }
   ],
   "source": [
    "with open(\"myfile01.txt\") as my_new_file:\n",
    "    contents = my_new_file.read()\n",
    "print(contents)"
   ]
  },
  {
   "cell_type": "code",
   "execution_count": 74,
   "id": "6deff50f",
   "metadata": {},
   "outputs": [
    {
     "name": "stdout",
     "output_type": "stream",
     "text": [
      "1\n",
      "2\n",
      "6\n",
      "9\n",
      "10\n",
      "8\n",
      "12\n"
     ]
    }
   ],
   "source": [
    "for_list = [1,2,6,9,10,8,12]\n",
    "for num in for_list:\n",
    "    print(num)"
   ]
  },
  {
   "cell_type": "code",
   "execution_count": 75,
   "id": "9bd47eb4",
   "metadata": {},
   "outputs": [
    {
     "name": "stdout",
     "output_type": "stream",
     "text": [
      "Odd Number is 1\n",
      "2\n",
      "6\n",
      "Odd Number is 9\n",
      "10\n",
      "8\n",
      "12\n"
     ]
    }
   ],
   "source": [
    "for num in for_list:\n",
    "    if num % 2 == 0:\n",
    "        print(num)\n",
    "    else:\n",
    "        print(f\"Odd Number is {num}\")"
   ]
  },
  {
   "cell_type": "code",
   "execution_count": 77,
   "id": "daca83c2",
   "metadata": {},
   "outputs": [
    {
     "name": "stdout",
     "output_type": "stream",
     "text": [
      "(1, 5)\n",
      "(7, 4)\n",
      "(10, 6)\n",
      "(6, 9)\n",
      "1\n",
      "7\n",
      "10\n",
      "6\n"
     ]
    }
   ],
   "source": [
    "my_list_for = [(1,5),(7,4),(10,6),(6,9)]\n",
    "\n",
    "for my in my_list_for:\n",
    "    print(my)\n",
    "for a,b in my_list_for:\n",
    "    print(a)"
   ]
  },
  {
   "cell_type": "code",
   "execution_count": 81,
   "id": "9a929f37",
   "metadata": {},
   "outputs": [
    {
     "name": "stdout",
     "output_type": "stream",
     "text": [
      "('k1', 'Chandra')\n",
      "('k2', 'Boli')\n",
      "('k3', 'Setty')\n"
     ]
    }
   ],
   "source": [
    "d = {\"k1\":\"Chandra\",\"k2\":\"Boli\",\"k3\":\"Setty\"}\n",
    "for item in d.items():\n",
    "    print(item)"
   ]
  },
  {
   "cell_type": "code",
   "execution_count": 84,
   "id": "4da6d233",
   "metadata": {},
   "outputs": [
    {
     "name": "stdout",
     "output_type": "stream",
     "text": [
      "X value is 0\n",
      "X value is 1\n",
      "X value is 2\n",
      "X value is 3\n",
      "X value is 4\n"
     ]
    }
   ],
   "source": [
    "x = 0\n",
    "\n",
    "while x < 5:\n",
    "    print(\"X value is {}\".format(x))\n",
    "    x = x+1"
   ]
  },
  {
   "cell_type": "code",
   "execution_count": 88,
   "id": "db38a83e",
   "metadata": {},
   "outputs": [
    {
     "name": "stdout",
     "output_type": "stream",
     "text": [
      "(0, 'a')\n",
      "(1, 'b')\n",
      "(2, 'c')\n",
      "(3, 'd')\n"
     ]
    }
   ],
   "source": [
    "word = \"abcd\"\n",
    "\n",
    "for i in enumerate(word):\n",
    "    print(i)"
   ]
  },
  {
   "cell_type": "code",
   "execution_count": 94,
   "id": "08e11fbd",
   "metadata": {},
   "outputs": [
    {
     "name": "stdout",
     "output_type": "stream",
     "text": [
      "One Time Password is: 062207\n"
     ]
    }
   ],
   "source": [
    "from random import shuffle\n",
    "from random import randrange\n",
    "\n",
    "a = randrange(0,9)\n",
    "b = randrange(0,9)\n",
    "c = randrange(0,9)\n",
    "d = randrange(0,9)\n",
    "e = randrange(0,9)\n",
    "f = randrange(0,9)\n",
    "print(f\"One Time Password is: {a}{b}{c}{d}{e}{f}\")"
   ]
  },
  {
   "cell_type": "code",
   "execution_count": 95,
   "id": "2616d1ee",
   "metadata": {},
   "outputs": [
    {
     "name": "stdout",
     "output_type": "stream",
     "text": [
      "Enter your name: Chandra\n"
     ]
    }
   ],
   "source": [
    "result = input(\"Enter your name: \")"
   ]
  },
  {
   "cell_type": "code",
   "execution_count": 96,
   "id": "f84ceae6",
   "metadata": {},
   "outputs": [
    {
     "data": {
      "text/plain": [
       "'Chandra'"
      ]
     },
     "execution_count": 96,
     "metadata": {},
     "output_type": "execute_result"
    }
   ],
   "source": [
    "result"
   ]
  },
  {
   "cell_type": "code",
   "execution_count": 97,
   "id": "99b36c39",
   "metadata": {},
   "outputs": [
    {
     "name": "stdout",
     "output_type": "stream",
     "text": [
      "Eneter your age: 20\n"
     ]
    }
   ],
   "source": [
    "age = int(input(\"Eneter your age: \"))"
   ]
  },
  {
   "cell_type": "code",
   "execution_count": null,
   "id": "6c934061",
   "metadata": {},
   "outputs": [],
   "source": []
  }
 ],
 "metadata": {
  "kernelspec": {
   "display_name": "Python 3",
   "language": "python",
   "name": "python3"
  },
  "language_info": {
   "codemirror_mode": {
    "name": "ipython",
    "version": 3
   },
   "file_extension": ".py",
   "mimetype": "text/x-python",
   "name": "python",
   "nbconvert_exporter": "python",
   "pygments_lexer": "ipython3",
   "version": "3.8.8"
  }
 },
 "nbformat": 4,
 "nbformat_minor": 5
}
